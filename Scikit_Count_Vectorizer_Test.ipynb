{
  "nbformat": 4,
  "nbformat_minor": 0,
  "metadata": {
    "colab": {
      "name": "Scikit Count Vectorizer Test.ipynb",
      "version": "0.3.2",
      "provenance": [],
      "private_outputs": true,
      "collapsed_sections": [],
      "include_colab_link": true
    },
    "kernelspec": {
      "name": "python3",
      "display_name": "Python 3"
    }
  },
  "cells": [
    {
      "cell_type": "markdown",
      "metadata": {
        "id": "view-in-github",
        "colab_type": "text"
      },
      "source": [
        "<a href=\"https://colab.research.google.com/github/robertdnolan/Machine-Learning/blob/master/Scikit_Count_Vectorizer_Test.ipynb\" target=\"_parent\"><img src=\"https://colab.research.google.com/assets/colab-badge.svg\" alt=\"Open In Colab\"/></a>"
      ]
    },
    {
      "cell_type": "markdown",
      "metadata": {
        "id": "g-Aty5-sOny-",
        "colab_type": "text"
      },
      "source": [
        "**In this notebook, we'll take a look at a Machine Learning technique to encode categorical variables called One-Hot Encoding.**"
      ]
    },
    {
      "cell_type": "code",
      "metadata": {
        "id": "GMmE6CmaZjmy",
        "colab_type": "code",
        "colab": {}
      },
      "source": [
        "import pandas as pd\n",
        "import numpy as np\n",
        "pd.set_option('display.max_columns', 500)\n",
        "from sklearn.feature_extraction.text import CountVectorizer"
      ],
      "execution_count": 0,
      "outputs": []
    },
    {
      "cell_type": "code",
      "metadata": {
        "id": "ynKq1kxgeyVh",
        "colab_type": "code",
        "colab": {}
      },
      "source": [
        "# d = {'C1': ['A', 'B', 'C'], 'C2': [1, 2, 3], 'C3': [3, 4, 5], 'T1': [1,1,0],'C4': ['life is a tale life', np.NaN, 'an idiot']}\n",
        "# d = {'C1': ['A', 'B', 'C'], 'C2': [1, 2, 3], 'C3': [3, 4, 5], 'T1': [1,1,0],'C4': ['life is a tale life', 'tale told by', 'an idiot']}\n",
        "d = {'C1': ['A', 'B', 'C'], 'C2': [1, 2, 3], 'C3': [3, 4, 5], 'T1': [1,1,0],'C4': ['2, 6630, 76876, 88705, 131448, 133541, 145116', '133541, 145116', '133541, 145116']}\n",
        "df = pd.DataFrame(data=d)\n",
        "df"
      ],
      "execution_count": 0,
      "outputs": []
    },
    {
      "cell_type": "code",
      "metadata": {
        "id": "NYXAzZTDvdT0",
        "colab_type": "code",
        "colab": {}
      },
      "source": [
        "# df['C9'] = df.apply(lambda x: 1 if str(x)[:2] == '2,', axis = 1)\n",
        "df['C9'] = df.apply(lambda x: 1 if str(x['C4'])[:2] == '2,' else 0, axis = 1)\n",
        "df['C9'] = df.apply(lambda x: 1 if str(x['C4'])[:5] == '1, 2,' else 0, axis = 1)\n",
        "df['C9'] = df.apply(lambda x: 1 if str(x['C4'])[:2] == '1,' else 0, axis = 1)\n",
        "df\n",
        "# df['Type'].isin(Type)"
      ],
      "execution_count": 0,
      "outputs": []
    },
    {
      "cell_type": "code",
      "metadata": {
        "id": "0t3MRyJhezeP",
        "colab_type": "code",
        "colab": {}
      },
      "source": [
        "vectorizer = CountVectorizer(ngram_range=(1,1), lowercase=True, strip_accents='ascii', binary=True, token_pattern = r\"(?u)\\b\\w+\\b\")\n",
        "X_vect = vectorizer.fit_transform(df['C4'].values.astype('str'))\n",
        "print(vectorizer.get_feature_names())\n",
        "ngram_names = vectorizer.get_feature_names()"
      ],
      "execution_count": 0,
      "outputs": []
    },
    {
      "cell_type": "code",
      "metadata": {
        "id": "D3H4HGQ_RQL9",
        "colab_type": "code",
        "colab": {}
      },
      "source": [
        "names = vectorizer.get_feature_names()\n",
        "names"
      ],
      "execution_count": 0,
      "outputs": []
    },
    {
      "cell_type": "code",
      "metadata": {
        "id": "nDAroyCTQhjR",
        "colab_type": "code",
        "colab": {}
      },
      "source": [
        "counts = np.asarray(X_vect.sum(axis=0))[0]\n",
        "counts"
      ],
      "execution_count": 0,
      "outputs": []
    },
    {
      "cell_type": "code",
      "metadata": {
        "id": "VaYvjvdFd_ML",
        "colab_type": "code",
        "colab": {}
      },
      "source": [
        "str1 = 'SOW ngram (word)'\n",
        "pos = str1.find(' ')\n",
        "pos"
      ],
      "execution_count": 0,
      "outputs": []
    },
    {
      "cell_type": "code",
      "metadata": {
        "id": "UKDI8UCkRV44",
        "colab_type": "code",
        "colab": {}
      },
      "source": [
        "ngram_lst = sorted(list(zip(names, counts)), key = lambda pos: pos[1], reverse=True)\n",
        "ngram_lst"
      ],
      "execution_count": 0,
      "outputs": []
    },
    {
      "cell_type": "code",
      "metadata": {
        "id": "nPqfPqNZzjxh",
        "colab_type": "code",
        "colab": {}
      },
      "source": [
        "df"
      ],
      "execution_count": 0,
      "outputs": []
    },
    {
      "cell_type": "code",
      "metadata": {
        "id": "kIKQdyLDe1EN",
        "colab_type": "code",
        "colab": {}
      },
      "source": [
        "print(X_vect.toarray())\n",
        "ngram_counts = X_vect.toarray()"
      ],
      "execution_count": 0,
      "outputs": []
    },
    {
      "cell_type": "code",
      "metadata": {
        "id": "cR2lzT6Pj3oi",
        "colab_type": "code",
        "colab": {}
      },
      "source": [
        "ngram_counts[:,1]"
      ],
      "execution_count": 0,
      "outputs": []
    },
    {
      "cell_type": "code",
      "metadata": {
        "id": "oaDLWPSb_8S5",
        "colab_type": "code",
        "colab": {}
      },
      "source": [
        "# slice by column\n",
        "X_vect.toarray()[:,4]"
      ],
      "execution_count": 0,
      "outputs": []
    },
    {
      "cell_type": "code",
      "metadata": {
        "id": "EWZpuFu7Ifb1",
        "colab_type": "code",
        "colab": {}
      },
      "source": [
        "X_vect[:,1].toarray()"
      ],
      "execution_count": 0,
      "outputs": []
    },
    {
      "cell_type": "code",
      "metadata": {
        "id": "KzuP-dkLOOXo",
        "colab_type": "code",
        "colab": {}
      },
      "source": [
        "# from nltk.tokenize import TweetTokenizer\n",
        "# tknzr = TweetTokenizer()\n",
        "# s0 = list(df['C4'].values.astype('str')) #\"This is a cooool #dummysmiley: :-) :-P <3 and some arrows < > -> <--\"\n",
        "# tknzr.tokenize(s0)"
      ],
      "execution_count": 0,
      "outputs": []
    },
    {
      "cell_type": "code",
      "metadata": {
        "id": "DVZ97zkZOZBz",
        "colab_type": "code",
        "colab": {}
      },
      "source": [
        "list(df['C4'].values.astype('str'))"
      ],
      "execution_count": 0,
      "outputs": []
    },
    {
      "cell_type": "code",
      "metadata": {
        "id": "rFfj0JfXMtOZ",
        "colab_type": "code",
        "colab": {}
      },
      "source": [
        "counts = X_vect.toarray().sum(axis=0)\n",
        "counts"
      ],
      "execution_count": 0,
      "outputs": []
    },
    {
      "cell_type": "code",
      "metadata": {
        "id": "2Sq9ElUYLhDX",
        "colab_type": "code",
        "colab": {}
      },
      "source": [
        "names = vectorizer.get_feature_names() # get list of n-gram feature names\n",
        "\n",
        "# vocab = vectorizer.vocabulary_ # return ngrams and counts as a dictionary\n",
        "\n",
        "list(zip(names, counts))\n",
        "\n",
        "ngram_lst = sorted(list(zip(names, counts)), key = lambda pos: pos[1], reverse=True) # convert dict to list and sort descending\n",
        "ngram_lst\n",
        "\n",
        "# add the top n-grams to the dataframe one column at a time\n",
        "# ngram_filtered = [row[0] for row in ngram_lst[0:5]]\n",
        "# ngram_filtered"
      ],
      "execution_count": 0,
      "outputs": []
    },
    {
      "cell_type": "code",
      "metadata": {
        "id": "1HbLgA9Le3Ep",
        "colab_type": "code",
        "colab": {}
      },
      "source": [
        "b = pd.DataFrame(X_vect.toarray(), columns=vectorizer.get_feature_names(), index=df.index)\n",
        "df = df.join(b)\n",
        "df"
      ],
      "execution_count": 0,
      "outputs": []
    },
    {
      "cell_type": "code",
      "metadata": {
        "id": "poldPodVHqDX",
        "colab_type": "code",
        "colab": {}
      },
      "source": [
        "X_vect.toarray()"
      ],
      "execution_count": 0,
      "outputs": []
    },
    {
      "cell_type": "code",
      "metadata": {
        "id": "44mh4grzv52N",
        "colab_type": "code",
        "colab": {}
      },
      "source": [
        "vectorizer.inverse_transform(X_vect)"
      ],
      "execution_count": 0,
      "outputs": []
    },
    {
      "cell_type": "code",
      "metadata": {
        "id": "vmcuUgKEE44p",
        "colab_type": "code",
        "colab": {}
      },
      "source": [
        "z = vectorizer.vocabulary_ # return ngrams and counts as a dictionary\n",
        "z = sorted(list(z.items()), key = lambda pos: pos[1], reverse=True)\n",
        "z"
      ],
      "execution_count": 0,
      "outputs": []
    },
    {
      "cell_type": "code",
      "metadata": {
        "id": "NOfXO8t2FwH1",
        "colab_type": "code",
        "colab": {}
      },
      "source": [
        "# alternate approach to above\n",
        "names = vectorizer.get_feature_names()\n",
        "values = X_vect.toarray().sum(axis=0)\n",
        "c = list(zip(names, values))\n",
        "c = sorted(c, key = lambda pos: pos[1], reverse=True)\n",
        "c[0:50]\n",
        "c"
      ],
      "execution_count": 0,
      "outputs": []
    },
    {
      "cell_type": "code",
      "metadata": {
        "id": "a-FD6IYVww2t",
        "colab_type": "code",
        "colab": {}
      },
      "source": [
        "# df.columns[0]\n",
        "features = vectorizer.get_feature_names()\n",
        "totals = pd.DataFrame(df[features].sum())\n",
        "totals = totals.sort_values(by=totals.columns[0], ascending=False)\n",
        "totals['PctOfTotal'] = totals[totals.columns[0]] / totals.sum()[0] #get pct % of total\n",
        "totals\n",
        "# df['tale'].sum()\n"
      ],
      "execution_count": 0,
      "outputs": []
    },
    {
      "cell_type": "code",
      "metadata": {
        "id": "3ncEJJVVVyEM",
        "colab_type": "code",
        "colab": {}
      },
      "source": [
        "nm = ['and', 'document', 'first', 'is', 'one', 'second', 'the', 'third', 'this']\n",
        "ar = np.array([  [0, 1, 1, 1, 0, 0, 1, 0, 1]\n",
        "                ,[0, 2, 0, 1, 0, 1, 1, 0, 1]\n",
        "                ,[1, 0, 0, 1, 1, 0, 1, 1, 1]\n",
        "              ])\n",
        "# sl = ['document', 'is']\n",
        "# nm.index('is', 'one')\n",
        "# try:\n",
        "#     index_value = nm.index('is')\n",
        "# except ValueError:\n",
        "#     index_value = -1\n",
        "# nm.index('is')\n"
      ],
      "execution_count": 0,
      "outputs": []
    },
    {
      "cell_type": "code",
      "metadata": {
        "id": "gckNBrONV4Ob",
        "colab_type": "code",
        "colab": {}
      },
      "source": [
        "# ar.sum(axis=0)\n",
        "ar[:,1]"
      ],
      "execution_count": 0,
      "outputs": []
    },
    {
      "cell_type": "code",
      "metadata": {
        "id": "UBOHEsWHjPWT",
        "colab_type": "code",
        "colab": {}
      },
      "source": [
        "features.index('is')"
      ],
      "execution_count": 0,
      "outputs": []
    }
  ]
}